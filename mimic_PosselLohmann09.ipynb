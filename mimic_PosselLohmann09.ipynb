{
 "cells": [
  {
   "cell_type": "markdown",
   "metadata": {},
   "source": [
    "# Mimic Posselt & Lohmann (2009)\n",
    "\n",
    "Minimal example how to use the rainy column model to mimic the publication:\n",
    "\n",
    "Posselt, R. and U. Lohmann (2009): \"Sensitivity of the total anthropogenic aerosol effect to the treatment of rain in a global climate model\", GRL, 36, L02805, doi:10.1029/2008GL035796."
   ]
  },
  {
   "cell_type": "code",
   "execution_count": 1,
   "metadata": {},
   "outputs": [
    {
     "name": "stdout",
     "output_type": "stream",
     "text": [
      "Model run 'ref' finished.\n"
     ]
    }
   ],
   "source": [
    "# Import/load the single column and some routines for plotting\n",
    "from run_micro import run_column_model\n",
    "from src.plot_util import plot_initial_profiles, plot_profile_evolution, plot_timeseries\n",
    "\n",
    "# run the model with specified settings\n",
    "ref_run = run_column_model(\n",
    "              run_name='ref',\n",
    "              thl=298,      # liquid water potential temperature, unit: K\n",
    "              qt=15e-3,     # total water mixing ratio, unit: kg/kg \n",
    "              nc=80e6,      # cloud droplet number concentration, unit: 1/m3\n",
    "              sw_auto=True, # autoconverion: on\n",
    "              sw_accr=True, # accretion: on\n",
    "              sw_evap=True, # rain drop evaporation: on\n",
    "              sw_sedi=True, # rain drop sedimentation: on\n",
    "              auto_tuning_prefac=1,  # prefactor that autoconversion is multiplied with to mimic GCM tuning\n",
    "              auto_exponent_KK=-1.79 # droplet number exponent in the KK description of the autoconversion rate\n",
    "         )"
   ]
  },
  {
   "cell_type": "code",
   "execution_count": null,
   "metadata": {},
   "outputs": [],
   "source": []
  }
 ],
 "metadata": {
  "kernelspec": {
   "display_name": "Python 3",
   "language": "python",
   "name": "python3"
  },
  "language_info": {
   "codemirror_mode": {
    "name": "ipython",
    "version": 3
   },
   "file_extension": ".py",
   "mimetype": "text/x-python",
   "name": "python",
   "nbconvert_exporter": "python",
   "pygments_lexer": "ipython3",
   "version": "3.7.0"
  }
 },
 "nbformat": 4,
 "nbformat_minor": 2
}
